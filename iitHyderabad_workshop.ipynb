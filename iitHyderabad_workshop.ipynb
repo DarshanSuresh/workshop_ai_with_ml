{
  "nbformat": 4,
  "nbformat_minor": 0,
  "metadata": {
    "colab": {
      "provenance": [],
      "authorship_tag": "ABX9TyPZTrR6Dt9Ri5vnj7nEVyUi",
      "include_colab_link": true
    },
    "kernelspec": {
      "name": "python3",
      "display_name": "Python 3"
    },
    "language_info": {
      "name": "python"
    }
  },
  "cells": [
    {
      "cell_type": "markdown",
      "metadata": {
        "id": "view-in-github",
        "colab_type": "text"
      },
      "source": [
        "<a href=\"https://colab.research.google.com/github/DarshanSuresh/workshop_ai_with_ml/blob/main/iitHyderabad_workshop.ipynb\" target=\"_parent\"><img src=\"https://colab.research.google.com/assets/colab-badge.svg\" alt=\"Open In Colab\"/></a>"
      ]
    },
    {
      "cell_type": "code",
      "execution_count": null,
      "metadata": {
        "colab": {
          "base_uri": "https://localhost:8080/"
        },
        "id": "EPGJHVXv1OjD",
        "outputId": "99dc2353-ba4f-4516-fe85-4e313bc8ec22"
      },
      "outputs": [
        {
          "output_type": "stream",
          "name": "stdout",
          "text": [
            "/content\n"
          ]
        }
      ],
      "source": [
        "!pwd"
      ]
    },
    {
      "cell_type": "markdown",
      "source": [
        "# Basics of Python"
      ],
      "metadata": {
        "id": "CKJC_FVs2GxS"
      }
    },
    {
      "cell_type": "code",
      "source": [
        "x = 15"
      ],
      "metadata": {
        "id": "BwTiZBYe1Wgt"
      },
      "execution_count": null,
      "outputs": []
    },
    {
      "cell_type": "markdown",
      "source": [
        "## Varaiables and operators"
      ],
      "metadata": {
        "id": "ns8-wybL2GDz"
      }
    },
    {
      "cell_type": "code",
      "source": [
        "y = 8\n",
        "z = x + y\n",
        "print(\"X value: \",x)\n",
        "print(\"Y value: \",y)\n",
        "print(\"Total\",z)"
      ],
      "metadata": {
        "colab": {
          "base_uri": "https://localhost:8080/"
        },
        "id": "-lgtCEB51yIb",
        "outputId": "6b61dde4-71a6-427f-fc7e-06614ff64cfb"
      },
      "execution_count": null,
      "outputs": [
        {
          "output_type": "stream",
          "name": "stdout",
          "text": [
            "X value:  15\n",
            "Y value:  8\n",
            "Total 23\n"
          ]
        }
      ]
    },
    {
      "cell_type": "code",
      "source": [
        "print(x//y)"
      ],
      "metadata": {
        "colab": {
          "base_uri": "https://localhost:8080/"
        },
        "id": "kT9L4AMH11Mm",
        "outputId": "afa27d95-bda8-4e32-eb91-24c6c29c5df9"
      },
      "execution_count": null,
      "outputs": [
        {
          "output_type": "stream",
          "name": "stdout",
          "text": [
            "1\n"
          ]
        }
      ]
    },
    {
      "cell_type": "code",
      "source": [
        "print(x**y)"
      ],
      "metadata": {
        "colab": {
          "base_uri": "https://localhost:8080/"
        },
        "id": "gvCjUyQa2jBQ",
        "outputId": "3e2c074d-d7f5-49a1-c3c5-4e7d22bfb01c"
      },
      "execution_count": null,
      "outputs": [
        {
          "output_type": "stream",
          "name": "stdout",
          "text": [
            "2562890625\n"
          ]
        }
      ]
    },
    {
      "cell_type": "markdown",
      "source": [
        "## Data Types"
      ],
      "metadata": {
        "id": "7Xb1vSHo2v3b"
      }
    },
    {
      "cell_type": "markdown",
      "source": [
        "### Sequential: String, List, Tuple"
      ],
      "metadata": {
        "id": "5Srut8dA3cTR"
      }
    },
    {
      "cell_type": "markdown",
      "source": [
        "#### String"
      ],
      "metadata": {
        "id": "S8OwgDV562rS"
      }
    },
    {
      "cell_type": "code",
      "source": [
        "# string\n",
        "x = 'hello buddy!, $'\n",
        "print(x)"
      ],
      "metadata": {
        "colab": {
          "base_uri": "https://localhost:8080/"
        },
        "id": "K-Wu6yIY2sXs",
        "outputId": "602cebbe-ef94-4973-f436-5cf310ff9c61"
      },
      "execution_count": null,
      "outputs": [
        {
          "output_type": "stream",
          "name": "stdout",
          "text": [
            "hello buddy!, $\n"
          ]
        }
      ]
    },
    {
      "cell_type": "code",
      "source": [
        "# string concatination\n",
        "y = \"jsdnfkj\"\n",
        "print(x,y)"
      ],
      "metadata": {
        "colab": {
          "base_uri": "https://localhost:8080/"
        },
        "id": "SfhplZ-03jGB",
        "outputId": "0732bb56-d383-499b-a5b9-80ac8fbb1bdc"
      },
      "execution_count": null,
      "outputs": [
        {
          "output_type": "stream",
          "name": "stdout",
          "text": [
            "hello buddy!, $ jsdnfkj\n"
          ]
        }
      ]
    },
    {
      "cell_type": "markdown",
      "source": [
        "#### List"
      ],
      "metadata": {
        "id": "AK7xvDqr65R3"
      }
    },
    {
      "cell_type": "code",
      "source": [
        "student = [\"Darshan\", \"Suresh\", \"Rahul\"]\n",
        "print(\"Student Names: \")\n",
        "print(student)\n",
        "print(\"------------------------------------------------------\")\n",
        "print(student[1])\n",
        "print(student[-1])\n",
        "\n",
        "# add\n",
        "student.append(\"Manish\")\n",
        "print(\"------------------------------------------------------\")\n",
        "print(\"Example for Append: \")\n",
        "print(student)\n",
        "\n",
        "# insert\n",
        "student.insert(2, \"Phalaprada\")\n",
        "print(\"------------------------------------------------------\")\n",
        "print(\"Example of Insert: \")\n",
        "print(student)\n",
        "\n",
        "# removing\n",
        "student.remove(\"Manish\")\n",
        "print(\"------------------------------------------------------\")\n",
        "print(\"Example for removing: \")\n",
        "print(student)"
      ],
      "metadata": {
        "colab": {
          "base_uri": "https://localhost:8080/"
        },
        "id": "QjebyDHX4mnv",
        "outputId": "8c33f1f9-328e-41e6-ac77-b0754238c57e"
      },
      "execution_count": null,
      "outputs": [
        {
          "output_type": "stream",
          "name": "stdout",
          "text": [
            "Student Names: \n",
            "['Darshan', 'Suresh', 'Rahul']\n",
            "------------------------------------------------------\n",
            "Suresh\n",
            "Rahul\n",
            "------------------------------------------------------\n",
            "Example for Append: \n",
            "['Darshan', 'Suresh', 'Rahul', 'Manish']\n",
            "------------------------------------------------------\n",
            "Example of Insert: \n",
            "['Darshan', 'Suresh', 'Phalaprada', 'Rahul', 'Manish']\n",
            "------------------------------------------------------\n",
            "Example for removing: \n",
            "['Darshan', 'Suresh', 'Phalaprada', 'Rahul']\n"
          ]
        }
      ]
    },
    {
      "cell_type": "markdown",
      "source": [
        "#### Tuple"
      ],
      "metadata": {
        "id": "Fs6BszxH7AkD"
      }
    },
    {
      "cell_type": "code",
      "source": [
        "tup = (800, 900, 950)\n",
        "print(tup)\n",
        "print(tup[2])"
      ],
      "metadata": {
        "colab": {
          "base_uri": "https://localhost:8080/"
        },
        "id": "B-6GjtBW5i9w",
        "outputId": "52ddae7f-8f44-47bb-e7e4-ae4230c4f52f"
      },
      "execution_count": null,
      "outputs": [
        {
          "output_type": "stream",
          "name": "stdout",
          "text": [
            "(800, 900, 950)\n",
            "950\n"
          ]
        }
      ]
    },
    {
      "cell_type": "markdown",
      "source": [
        "### Dictionary"
      ],
      "metadata": {
        "id": "PLyLGl0J_9AO"
      }
    },
    {
      "cell_type": "code",
      "source": [
        "d = {\"Name\":\"Darshan\" , \"Age\":26}\n",
        "print(d)\n",
        "print(\"------------------------------------------------------\")\n",
        "print(d[\"Name\"])\n",
        "print(d.get(\"Age\"))\n",
        "print(\"------------------------------------------------------\")\n",
        "print(d.get(\"IIT\"))\n",
        "\n",
        "# inserting to Dict\n",
        "d[\"Course\"] = \"ML\"\n",
        "print(\"------------------------------------------------------\")\n",
        "print(d)\n",
        "print(d.get(\"Course\"))\n",
        "print(\"------------------------------------------------------\")\n"
      ],
      "metadata": {
        "colab": {
          "base_uri": "https://localhost:8080/"
        },
        "id": "5lP_CJsIAPPx",
        "outputId": "691499a1-47f8-4855-cc17-2a68eafd4aa3"
      },
      "execution_count": null,
      "outputs": [
        {
          "output_type": "stream",
          "name": "stdout",
          "text": [
            "{'Name': 'Darshan', 'Age': 26}\n",
            "------------------------------------------------------\n",
            "Darshan\n",
            "26\n",
            "------------------------------------------------------\n",
            "None\n",
            "------------------------------------------------------\n",
            "{'Name': 'Darshan', 'Age': 26, 'Course': 'ML'}\n",
            "ML\n",
            "------------------------------------------------------\n"
          ]
        }
      ]
    },
    {
      "cell_type": "markdown",
      "source": [
        "### Numeric: Complex, Float, Integer"
      ],
      "metadata": {
        "id": "WJIwV9wT9kiR"
      }
    },
    {
      "cell_type": "code",
      "source": [
        "d = 5\n",
        "e = 5.8\n",
        "f = 5+0j\n",
        "\n",
        "print(d)\n",
        "print(type(d))\n",
        "print(e)\n",
        "print(type(e))\n",
        "print(f)\n",
        "print(type(f))\n",
        "print(\"-----------------\")\n",
        "\n",
        "g = d/d\n",
        "print(\"Int / Int:\")\n",
        "print(g)\n",
        "print(type(g))\n",
        "print(\"-----------------\")\n",
        "\n",
        "h = g*d\n",
        "print(\"Float * Int:\")\n",
        "print(h)\n",
        "print(type(h))\n",
        "print(\"-----------------\")\n"
      ],
      "metadata": {
        "colab": {
          "base_uri": "https://localhost:8080/"
        },
        "id": "ewvDMQOf96Tb",
        "outputId": "98535477-7053-4889-90db-746471856cff"
      },
      "execution_count": null,
      "outputs": [
        {
          "output_type": "stream",
          "name": "stdout",
          "text": [
            "5\n",
            "<class 'int'>\n",
            "5.8\n",
            "<class 'float'>\n",
            "(5+0j)\n",
            "<class 'complex'>\n",
            "-----------------\n",
            "Int / Int:\n",
            "1.0\n",
            "<class 'float'>\n",
            "-----------------\n",
            "Float * Int:\n",
            "5.0\n",
            "<class 'float'>\n",
            "-----------------\n"
          ]
        }
      ]
    },
    {
      "cell_type": "markdown",
      "source": [
        "### User Inputs"
      ],
      "metadata": {
        "id": "xB27-s0Y_mgn"
      }
    },
    {
      "cell_type": "code",
      "source": [
        "name = input(\"Whats your name? \")\n",
        "print(\"Hey! \", name)"
      ],
      "metadata": {
        "colab": {
          "base_uri": "https://localhost:8080/"
        },
        "id": "jAx7kF5K_xJ_",
        "outputId": "cd97477c-8041-4f81-9005-282e3ead797a"
      },
      "execution_count": null,
      "outputs": [
        {
          "output_type": "stream",
          "name": "stdout",
          "text": [
            "Whats your name? \n",
            "Hey!  \n"
          ]
        }
      ]
    },
    {
      "cell_type": "markdown",
      "source": [
        "### Conditional Statements"
      ],
      "metadata": {
        "id": "e48UHKa7CGYc"
      }
    },
    {
      "cell_type": "code",
      "source": [
        "age = int(input(\"Enter your Age: \"))\n",
        "if age<18:\n",
        "  print(\"Your not eligible.\")\n",
        "else:\n",
        "  print(\"Congratulations, your eligible.\")"
      ],
      "metadata": {
        "colab": {
          "base_uri": "https://localhost:8080/"
        },
        "id": "a4tVqqsBB6EH",
        "outputId": "5db1c973-cc01-488d-ba68-809bbcea7204"
      },
      "execution_count": null,
      "outputs": [
        {
          "output_type": "stream",
          "name": "stdout",
          "text": [
            "Enter your Age: 17\n",
            "Your not eligible.\n"
          ]
        }
      ]
    },
    {
      "cell_type": "code",
      "source": [
        "# Height minimum 100cms for fary wheel\n",
        "\n",
        "height = int(input(\"Enter your height: \"))\n",
        "\n",
        "if height>100:\n",
        "  print(\"Congratulations, You can access your seats.\")\n",
        "else:\n",
        "  print(\"Sorry, Unfortunalty we can't access you.\")\n"
      ],
      "metadata": {
        "colab": {
          "base_uri": "https://localhost:8080/"
        },
        "id": "JBYmjBoCCVrK",
        "outputId": "394556c8-39ab-431e-f015-915ec209c8c5"
      },
      "execution_count": null,
      "outputs": [
        {
          "output_type": "stream",
          "name": "stdout",
          "text": [
            "Enter your height: 109\n",
            "Congratulations, You can access your seats.\n"
          ]
        }
      ]
    },
    {
      "cell_type": "code",
      "source": [
        "# grade system: 95+ O grade, 80-95 A grade, 60-80 B grade, 40-60 C grade <40 Fail\n",
        "\n",
        "sub1 = int(input(\"Enter your Marks for Kannada: \"))\n",
        "sub2 = int(input(\"Enter your Marks for English: \"))\n",
        "sub3 = int(input(\"Enter your Marks for Mathematics: \"))\n",
        "sub4 = int(input(\"Enter your Marks for Science: \"))\n",
        "sub5 = int(input(\"Enter your Marks for Social: \"))\n",
        "\n",
        "total = sub1+sub2+sub3+sub4+sub5\n",
        "avg = ((total)/500)*100\n",
        "print(\"Your Total Marks is \", total)\n",
        "print(\"Your avg is \", avg)\n",
        "\n",
        "if avg < 40:\n",
        "  print(\"Fail\")\n",
        "  if avg > 40 and avg < 60:\n",
        "    print(\"C Grade\")\n",
        "  if avg > 60 and avg < 80:\n",
        "    print(\"B Grade\")\n",
        "  if avg > 80 and avg < 95:\n",
        "    print(\"A Grade\")\n",
        "  if avg > 95:\n",
        "    print(\"O Grade\")"
      ],
      "metadata": {
        "colab": {
          "base_uri": "https://localhost:8080/"
        },
        "id": "dBxpvOFTC9mG",
        "outputId": "20771e4f-c9de-4449-8203-db0f15e131de"
      },
      "execution_count": null,
      "outputs": [
        {
          "output_type": "stream",
          "name": "stdout",
          "text": [
            "Enter your Marks for Kannada: 34\n",
            "Enter your Marks for English: 32\n",
            "Enter your Marks for Mathematics: 30\n",
            "Enter your Marks for Science: 28\n",
            "Enter your Marks for Social: 21\n",
            "Your Total Marks is  145\n",
            "Your avg is  28.999999999999996\n",
            "Fail\n"
          ]
        }
      ]
    },
    {
      "cell_type": "markdown",
      "source": [
        "### Looping Statements"
      ],
      "metadata": {
        "id": "QuwiioGAHMIe"
      }
    },
    {
      "cell_type": "code",
      "source": [
        "x = 0\n",
        "while x<10:\n",
        "  print(x)\n",
        "  x = x+1"
      ],
      "metadata": {
        "colab": {
          "base_uri": "https://localhost:8080/"
        },
        "id": "O6CYVPXhHGMN",
        "outputId": "1b6bfdc5-686c-46c0-8301-5c817b8421c3"
      },
      "execution_count": null,
      "outputs": [
        {
          "output_type": "stream",
          "name": "stdout",
          "text": [
            "0\n",
            "1\n",
            "2\n",
            "3\n",
            "4\n",
            "5\n",
            "6\n",
            "7\n",
            "8\n",
            "9\n"
          ]
        }
      ]
    },
    {
      "cell_type": "markdown",
      "source": [
        "### Exception Handling"
      ],
      "metadata": {
        "id": "1F2YduOcKLrf"
      }
    },
    {
      "cell_type": "code",
      "source": [
        "x = int(input(\"Enter first number: \"))\n",
        "y = int(input(\"Enter second number: \"))\n",
        "try :\n",
        "  print(x/y)\n",
        "except ZeroDivisionError:\n",
        "  print(\"You can't do it\")"
      ],
      "metadata": {
        "colab": {
          "base_uri": "https://localhost:8080/"
        },
        "id": "RNBJeP2MKQgc",
        "outputId": "e0831ea0-30ef-4e17-fd66-f12c1e2588e0"
      },
      "execution_count": null,
      "outputs": [
        {
          "output_type": "stream",
          "name": "stdout",
          "text": [
            "Enter first number: 5\n",
            "Enter second number: 0\n",
            "You can't do it\n"
          ]
        }
      ]
    },
    {
      "cell_type": "code",
      "source": [
        "x = int(input(\"Enter first number: \"))\n",
        "y = int(input(\"Enter second number: \"))\n",
        "try :\n",
        "  print(x/y)\n",
        "except Exception:\n",
        "  print(\"You can't do it\")"
      ],
      "metadata": {
        "colab": {
          "base_uri": "https://localhost:8080/"
        },
        "id": "4Lv9Yzc5Kka4",
        "outputId": "ab51fea7-63df-4625-8fe8-2cc605383663"
      },
      "execution_count": null,
      "outputs": [
        {
          "output_type": "stream",
          "name": "stdout",
          "text": [
            "Enter first number: 5\n",
            "Enter second number: 25\n",
            "0.2\n"
          ]
        }
      ]
    },
    {
      "cell_type": "code",
      "source": [
        "# Calculator which handles exceptions and also takes in float with selection\n",
        "\n",
        "def calculate():\n",
        "  while True:\n",
        "\n",
        "    num1 = float(input(\"Enter the first number: \"))\n",
        "    num2 = float(input(\"Enter the second number: \"))\n",
        "    operator = input(\"Enter the operator name (Addition, Subtraction, Multiplication, Division): \")\n",
        "\n",
        "    if operator == \"Addition\":\n",
        "      result = num1 + num2\n",
        "    elif operator == \"Subtraction\":\n",
        "      result = num1 - num2\n",
        "    elif operator == \"Multiplication\":\n",
        "      result = num1 * num2\n",
        "    elif operator == \"Division\":\n",
        "      try:\n",
        "       result = num1 / num2\n",
        "      except Exception:\n",
        "       print(\"Invalid input.\")\n",
        "\n",
        "    else:\n",
        "      print(\"Invalid operator.\")\n",
        "      continue\n",
        "      print(result)\n",
        "\n",
        "    choice = input(\"Continue? (Y/N) \")\n",
        "    if choice == \"N\":\n",
        "      break\n",
        "\n",
        "calculate()"
      ],
      "metadata": {
        "colab": {
          "base_uri": "https://localhost:8080/"
        },
        "id": "wCCX4H7wLpGh",
        "outputId": "595953bc-c406-439c-abc6-da0289b5838b"
      },
      "execution_count": null,
      "outputs": [
        {
          "name": "stdout",
          "output_type": "stream",
          "text": [
            "Enter the first number: 5\n",
            "Enter the second number: 0\n",
            "Enter the operator name (Addition, Subtraction, Multiplication, Division): Division\n",
            "Invalid input.\n",
            "Continue? (Y/N) Y\n",
            "Enter the first number: 5\n",
            "Enter the second number: 25\n",
            "Enter the operator name (Addition, Subtraction, Multiplication, Division): Addition\n",
            "Continue? (Y/N) N\n"
          ]
        }
      ]
    },
    {
      "cell_type": "markdown",
      "source": [
        "# Machine Learning"
      ],
      "metadata": {
        "id": "dOiNWV6xqvoe"
      }
    },
    {
      "cell_type": "markdown",
      "source": [
        "## Example data"
      ],
      "metadata": {
        "id": "lg3BFnFtq0qT"
      }
    },
    {
      "cell_type": "code",
      "source": [
        "# Linear Regression\n",
        "weight = (151, 174, 138, 186, 128, 136, 179, 163, 152, 131)\n",
        "height = (63, 56,91, 47, 57, 76, 72, 62, 48)\n",
        "print(\"Weight: \")\n",
        "print(weight)\n",
        "print(\"Height: \")\n",
        "print(height)\n"
      ],
      "metadata": {
        "id": "68rGCyDHOXz0",
        "colab": {
          "base_uri": "https://localhost:8080/"
        },
        "outputId": "5e3bbc5f-6d92-4062-c7c6-7f6aa55614ff"
      },
      "execution_count": null,
      "outputs": [
        {
          "output_type": "stream",
          "name": "stdout",
          "text": [
            "Weight: \n",
            "(151, 174, 138, 186, 128, 136, 179, 163, 152, 131)\n",
            "Height: \n",
            "(63, 56, 91, 47, 57, 76, 72, 62, 48)\n"
          ]
        }
      ]
    },
    {
      "cell_type": "markdown",
      "source": [
        "## Workshop Day01 - ML"
      ],
      "metadata": {
        "id": "KBFsz7fpv_02"
      }
    },
    {
      "cell_type": "code",
      "source": [
        "import pandas as pd\n",
        "import numpy as np\n",
        "\n",
        "df = pd.read_csv('Salary_Data.csv')\n",
        "print(df)\n",
        "X = df['YearsExperience']\n",
        "Y = df['Salary']"
      ],
      "metadata": {
        "colab": {
          "base_uri": "https://localhost:8080/"
        },
        "id": "FP9-4Vx-vsqy",
        "outputId": "199c78aa-5b92-4e7b-e5f6-3c6996667dbf"
      },
      "execution_count": null,
      "outputs": [
        {
          "output_type": "stream",
          "name": "stdout",
          "text": [
            "    YearsExperience  Salary\n",
            "0               1.1   39343\n",
            "1               1.3   46205\n",
            "2               1.5   37731\n",
            "3               2.0   43525\n",
            "4               2.2   39891\n",
            "5               2.9   56642\n",
            "6               3.0   60150\n",
            "7               3.2   54445\n",
            "8               3.2   64445\n",
            "9               3.7   57189\n",
            "10              3.9   63218\n",
            "11              4.0   55794\n",
            "12              4.0   56957\n",
            "13              4.1   57081\n",
            "14              4.5   61111\n",
            "15              4.9   67938\n",
            "16              5.1   66029\n",
            "17              5.3   83088\n",
            "18              5.9   81363\n",
            "19              6.0   93940\n",
            "20              6.8   91738\n",
            "21              7.1   98273\n",
            "22              7.9  101302\n",
            "23              8.2  113812\n",
            "24              8.7  109431\n",
            "25              9.0  105582\n",
            "26              9.5  116969\n",
            "27              9.6  112635\n",
            "28             10.3  122391\n",
            "29             10.5  121872\n"
          ]
        }
      ]
    },
    {
      "cell_type": "code",
      "source": [
        "df.info()"
      ],
      "metadata": {
        "colab": {
          "base_uri": "https://localhost:8080/"
        },
        "id": "ZgnNARdZ3Eo7",
        "outputId": "62bf4d7d-8c5a-4132-f160-75f78a5449b8"
      },
      "execution_count": null,
      "outputs": [
        {
          "output_type": "stream",
          "name": "stdout",
          "text": [
            "<class 'pandas.core.frame.DataFrame'>\n",
            "RangeIndex: 30 entries, 0 to 29\n",
            "Data columns (total 2 columns):\n",
            " #   Column           Non-Null Count  Dtype  \n",
            "---  ------           --------------  -----  \n",
            " 0   YearsExperience  30 non-null     float64\n",
            " 1   Salary           30 non-null     int64  \n",
            "dtypes: float64(1), int64(1)\n",
            "memory usage: 608.0 bytes\n"
          ]
        }
      ]
    },
    {
      "cell_type": "code",
      "source": [
        "import numpy as np\n",
        "\n",
        "def cross_deviation(x, y):\n",
        "\n",
        "  mean_x = np.mean(x)\n",
        "  mean_y = np.mean(y)\n",
        "  return np.sum((x - mean_x) * (y - mean_y))\n",
        "\n",
        "cross_deviation(X, y)"
      ],
      "metadata": {
        "colab": {
          "base_uri": "https://localhost:8080/"
        },
        "id": "TOgy2w_O9WD-",
        "outputId": "adf58365-1cbc-41e3-98ea-63646877a80f"
      },
      "execution_count": null,
      "outputs": [
        {
          "output_type": "execute_result",
          "data": {
            "text/plain": [
              "2207082.8000000003"
            ]
          },
          "metadata": {},
          "execution_count": 79
        }
      ]
    },
    {
      "cell_type": "markdown",
      "source": [
        "### Finding Slope and Constants"
      ],
      "metadata": {
        "id": "rU9QE8R53XHx"
      }
    },
    {
      "cell_type": "code",
      "source": [
        "n = len(df)\n",
        "ΣX = sum(X)\n",
        "ΣY = sum(Y)\n",
        "ΣX2 = sum(X**2)\n",
        "ΣY2 = sum(Y**2)\n",
        "ΣXY = sum(df['YearsExperience']*df['Salary'])"
      ],
      "metadata": {
        "id": "CcnPaJqLwcnf"
      },
      "execution_count": null,
      "outputs": []
    },
    {
      "cell_type": "code",
      "source": [
        "print(\n",
        "    'Number of records ', n, '\\n',\n",
        "    'Sum of X', ΣX, '\\n'\n",
        "    'Sum of Y', ΣY, '\\n'\n",
        "    'Sum of X squared', ΣX2, '\\n'\n",
        "    'Sum of Y squared', ΣY2, '\\n'\n",
        "    'Sum of X*Y', ΣXY)"
      ],
      "metadata": {
        "colab": {
          "base_uri": "https://localhost:8080/"
        },
        "id": "9Kt1-d7qzFH4",
        "outputId": "82378003-6cda-4ce9-e932-48c0846919ce"
      },
      "execution_count": null,
      "outputs": [
        {
          "output_type": "stream",
          "name": "stdout",
          "text": [
            "Number of records  30 \n",
            " Sum of X 159.4 \n",
            "Sum of Y 2280090 \n",
            "Sum of X squared 1080.5 \n",
            "Sum of Y squared 195088658122 \n",
            "Sum of X*Y 14321961.0\n"
          ]
        }
      ]
    },
    {
      "cell_type": "code",
      "source": [
        "# Slope\n",
        "m = ((n*ΣXY) - (ΣX*ΣY)) / ((n*ΣX2) - (ΣX**2))\n",
        "print(round(m,2))"
      ],
      "metadata": {
        "colab": {
          "base_uri": "https://localhost:8080/"
        },
        "id": "DqdcbPPLzMvk",
        "outputId": "1fb56800-1d34-4de1-f2b3-4b97fba9788d"
      },
      "execution_count": null,
      "outputs": [
        {
          "output_type": "stream",
          "name": "stdout",
          "text": [
            "9449.96\n"
          ]
        }
      ]
    },
    {
      "cell_type": "code",
      "source": [
        "# C\n",
        "y1 = ΣY/n\n",
        "x1 = ΣX/n\n",
        "\n",
        "c = y1 - m*x1\n",
        "print(round(c,2))"
      ],
      "metadata": {
        "colab": {
          "base_uri": "https://localhost:8080/"
        },
        "id": "yMkV9IG-0fps",
        "outputId": "bbed6e7f-cb76-48a5-b4ab-8887cbb18b97"
      },
      "execution_count": null,
      "outputs": [
        {
          "output_type": "stream",
          "name": "stdout",
          "text": [
            "25792.2\n"
          ]
        }
      ]
    },
    {
      "cell_type": "markdown",
      "source": [
        "### Scatter plot"
      ],
      "metadata": {
        "id": "a9mTSj-13fJ8"
      }
    },
    {
      "cell_type": "code",
      "source": [
        "import matplotlib.pyplot as plt\n",
        "plt.scatter(X, Y, color = 'red')\n",
        "plt.plot(X, Y, color = 'blue')\n",
        "plt.title('Salary vs Experience')\n",
        "plt.xlabel('Years of Experience')\n",
        "plt.ylabel('Salary')\n",
        "plt.show()"
      ],
      "metadata": {
        "colab": {
          "base_uri": "https://localhost:8080/",
          "height": 472
        },
        "id": "7ppEJChd1W2P",
        "outputId": "96f25c1e-72f6-413d-aeb7-83d0ed25805e"
      },
      "execution_count": null,
      "outputs": [
        {
          "output_type": "display_data",
          "data": {
            "text/plain": [
              "<Figure size 640x480 with 1 Axes>"
            ],
            "image/png": "[encoded data removed]"
          },
          "metadata": {}
        }
      ]
    },
    {
      "cell_type": "code",
      "source": [
        "X = df.iloc[:, :-1].values\n",
        "y = df.iloc[:, -1].values"
      ],
      "metadata": {
        "id": "po3GCmVB3jvF"
      },
      "execution_count": null,
      "outputs": []
    },
    {
      "cell_type": "code",
      "source": [
        "from sklearn.model_selection import train_test_split\n",
        "X_train, X_test, y_train, y_test = train_test_split(X, y, test_size = 1/3, random_state = 1)"
      ],
      "metadata": {
        "id": "zs6qlmv93pB1"
      },
      "execution_count": null,
      "outputs": []
    },
    {
      "cell_type": "code",
      "source": [
        "print(\"Data for training (YearsExperience)\")\n",
        "X_train"
      ],
      "metadata": {
        "colab": {
          "base_uri": "https://localhost:8080/"
        },
        "id": "CtsskoP3AFsQ",
        "outputId": "f447bd10-a019-4257-c805-3f73464f47b8"
      },
      "execution_count": null,
      "outputs": [
        {
          "output_type": "stream",
          "name": "stdout",
          "text": [
            "Data for traing (YearsExperience)\n"
          ]
        },
        {
          "output_type": "execute_result",
          "data": {
            "text/plain": [
              "array([[ 8.2],\n",
              "       [ 2.2],\n",
              "       [ 1.5],\n",
              "       [ 9. ],\n",
              "       [ 3. ],\n",
              "       [ 5.9],\n",
              "       [ 4.1],\n",
              "       [ 3.2],\n",
              "       [ 9.6],\n",
              "       [ 1.3],\n",
              "       [ 5.1],\n",
              "       [ 1.1],\n",
              "       [ 4.9],\n",
              "       [10.5],\n",
              "       [10.3],\n",
              "       [ 3.7],\n",
              "       [ 3.2],\n",
              "       [ 4. ],\n",
              "       [ 4. ],\n",
              "       [ 2.9]])"
            ]
          },
          "metadata": {},
          "execution_count": 96
        }
      ]
    },
    {
      "cell_type": "code",
      "source": [
        "print(\"Data for testing (YearsExperience)\")\n",
        "X_test"
      ],
      "metadata": {
        "colab": {
          "base_uri": "https://localhost:8080/"
        },
        "id": "A3G2S4XuAac7",
        "outputId": "06170084-7122-433b-ffa1-2d37ecfc8bba"
      },
      "execution_count": null,
      "outputs": [
        {
          "output_type": "stream",
          "name": "stdout",
          "text": [
            "Data for testing (YearsExperience)\n"
          ]
        },
        {
          "output_type": "execute_result",
          "data": {
            "text/plain": [
              "array([[5.3],\n",
              "       [7.1],\n",
              "       [3.9],\n",
              "       [6. ],\n",
              "       [4.5],\n",
              "       [6.8],\n",
              "       [9.5],\n",
              "       [2. ],\n",
              "       [8.7],\n",
              "       [7.9]])"
            ]
          },
          "metadata": {},
          "execution_count": 97
        }
      ]
    },
    {
      "cell_type": "code",
      "source": [
        "print(\"Data for training (Salary)\")\n",
        "y_train"
      ],
      "metadata": {
        "colab": {
          "base_uri": "https://localhost:8080/"
        },
        "id": "U4lGup_FAhRB",
        "outputId": "30763580-779c-49c0-ff87-201136f5596a"
      },
      "execution_count": null,
      "outputs": [
        {
          "output_type": "stream",
          "name": "stdout",
          "text": [
            "Data for training (Salary)\n"
          ]
        },
        {
          "output_type": "execute_result",
          "data": {
            "text/plain": [
              "array([113812,  39891,  37731, 105582,  60150,  81363,  57081,  54445,\n",
              "       112635,  46205,  66029,  39343,  67938, 121872, 122391,  57189,\n",
              "        64445,  56957,  55794,  56642])"
            ]
          },
          "metadata": {},
          "execution_count": 99
        }
      ]
    },
    {
      "cell_type": "code",
      "source": [
        "print(\"Data for testing (Salary)\")\n",
        "y_test"
      ],
      "metadata": {
        "colab": {
          "base_uri": "https://localhost:8080/"
        },
        "id": "XCGCAWOdApGv",
        "outputId": "7eb41973-11b0-4624-de00-48eff7603482"
      },
      "execution_count": null,
      "outputs": [
        {
          "output_type": "stream",
          "name": "stdout",
          "text": [
            "Data for testing (Salary)\n"
          ]
        },
        {
          "output_type": "execute_result",
          "data": {
            "text/plain": [
              "array([ 83088,  98273,  63218,  93940,  61111,  91738, 116969,  43525,\n",
              "       109431, 101302])"
            ]
          },
          "metadata": {},
          "execution_count": 100
        }
      ]
    },
    {
      "cell_type": "code",
      "source": [
        "from sklearn.linear_model import LinearRegression\n",
        "regressor = LinearRegression()\n",
        "regressor.fit(X_train, y_train)\n"
      ],
      "metadata": {
        "colab": {
          "base_uri": "https://localhost:8080/",
          "height": 75
        },
        "id": "cxQ-odys3tvs",
        "outputId": "0acfe372-083a-4774-8eee-d7b9197482f8"
      },
      "execution_count": null,
      "outputs": [
        {
          "output_type": "execute_result",
          "data": {
            "text/plain": [
              "LinearRegression()"
            ],
            "text/html": [
              "<style>#sk-container-id-3 {color: black;background-color: white;}#sk-container-id-3 pre{padding: 0;}#sk-container-id-3 div.sk-toggleable {background-color: white;}#sk-container-id-3 label.sk-toggleable__label {cursor: pointer;display: block;width: 100%;margin-bottom: 0;padding: 0.3em;box-sizing: border-box;text-align: center;}#sk-container-id-3 label.sk-toggleable__label-arrow:before {content: \"▸\";float: left;margin-right: 0.25em;color: #696969;}#sk-container-id-3 label.sk-toggleable__label-arrow:hover:before {color: black;}#sk-container-id-3 div.sk-estimator:hover label.sk-toggleable__label-arrow:before {color: black;}#sk-container-id-3 div.sk-toggleable__content {max-height: 0;max-width: 0;overflow: hidden;text-align: left;background-color: #f0f8ff;}#sk-container-id-3 div.sk-toggleable__content pre {margin: 0.2em;color: black;border-radius: 0.25em;background-color: #f0f8ff;}#sk-container-id-3 input.sk-toggleable__control:checked~div.sk-toggleable__content {max-height: 200px;max-width: 100%;overflow: auto;}#sk-container-id-3 input.sk-toggleable__control:checked~label.sk-toggleable__label-arrow:before {content: \"▾\";}#sk-container-id-3 div.sk-estimator input.sk-toggleable__control:checked~label.sk-toggleable__label {background-color: #d4ebff;}#sk-container-id-3 div.sk-label input.sk-toggleable__control:checked~label.sk-toggleable__label {background-color: #d4ebff;}#sk-container-id-3 input.sk-hidden--visually {border: 0;clip: rect(1px 1px 1px 1px);clip: rect(1px, 1px, 1px, 1px);height: 1px;margin: -1px;overflow: hidden;padding: 0;position: absolute;width: 1px;}#sk-container-id-3 div.sk-estimator {font-family: monospace;background-color: #f0f8ff;border: 1px dotted black;border-radius: 0.25em;box-sizing: border-box;margin-bottom: 0.5em;}#sk-container-id-3 div.sk-estimator:hover {background-color: #d4ebff;}#sk-container-id-3 div.sk-parallel-item::after {content: \"\";width: 100%;border-bottom: 1px solid gray;flex-grow: 1;}#sk-container-id-3 div.sk-label:hover label.sk-toggleable__label {background-color: #d4ebff;}#sk-container-id-3 div.sk-serial::before {content: \"\";position: absolute;border-left: 1px solid gray;box-sizing: border-box;top: 0;bottom: 0;left: 50%;z-index: 0;}#sk-container-id-3 div.sk-serial {display: flex;flex-direction: column;align-items: center;background-color: white;padding-right: 0.2em;padding-left: 0.2em;position: relative;}#sk-container-id-3 div.sk-item {position: relative;z-index: 1;}#sk-container-id-3 div.sk-parallel {display: flex;align-items: stretch;justify-content: center;background-color: white;position: relative;}#sk-container-id-3 div.sk-item::before, #sk-container-id-3 div.sk-parallel-item::before {content: \"\";position: absolute;border-left: 1px solid gray;box-sizing: border-box;top: 0;bottom: 0;left: 50%;z-index: -1;}#sk-container-id-3 div.sk-parallel-item {display: flex;flex-direction: column;z-index: 1;position: relative;background-color: white;}#sk-container-id-3 div.sk-parallel-item:first-child::after {align-self: flex-end;width: 50%;}#sk-container-id-3 div.sk-parallel-item:last-child::after {align-self: flex-start;width: 50%;}#sk-container-id-3 div.sk-parallel-item:only-child::after {width: 0;}#sk-container-id-3 div.sk-dashed-wrapped {border: 1px dashed gray;margin: 0 0.4em 0.5em 0.4em;box-sizing: border-box;padding-bottom: 0.4em;background-color: white;}#sk-container-id-3 div.sk-label label {font-family: monospace;font-weight: bold;display: inline-block;line-height: 1.2em;}#sk-container-id-3 div.sk-label-container {text-align: center;}#sk-container-id-3 div.sk-container {/* jupyter's `normalize.less` sets `[hidden] { display: none; }` but bootstrap.min.css set `[hidden] { display: none !important; }` so we also need the `!important` here to be able to override the default hidden behavior on the sphinx rendered scikit-learn.org. See: https://github.com/scikit-learn/scikit-learn/issues/21755 */display: inline-block !important;position: relative;}#sk-container-id-3 div.sk-text-repr-fallback {display: none;}</style><div id=\"sk-container-id-3\" class=\"sk-top-container\"><div class=\"sk-text-repr-fallback\"><pre>LinearRegression()</pre><b>In a Jupyter environment, please rerun this cell to show the HTML representation or trust the notebook. <br />On GitHub, the HTML representation is unable to render, please try loading this page with nbviewer.org.</b></div><div class=\"sk-container\" hidden><div class=\"sk-item\"><div class=\"sk-estimator sk-toggleable\"><input class=\"sk-toggleable__control sk-hidden--visually\" id=\"sk-estimator-id-3\" type=\"checkbox\" checked><label for=\"sk-estimator-id-3\" class=\"sk-toggleable__label sk-toggleable__label-arrow\">LinearRegression</label><div class=\"sk-toggleable__content\"><pre>LinearRegression()</pre></div></div></div></div></div>"
            ]
          },
          "metadata": {},
          "execution_count": 87
        }
      ]
    },
    {
      "cell_type": "code",
      "source": [
        "y_pred = regressor.predict(X_test)\n",
        "\n",
        "y_pred"
      ],
      "metadata": {
        "colab": {
          "base_uri": "https://localhost:8080/"
        },
        "id": "0y-lm85A3x_F",
        "outputId": "9acf994e-5059-49cb-a30f-c536152d241c"
      },
      "execution_count": null,
      "outputs": [
        {
          "output_type": "execute_result",
          "data": {
            "text/plain": [
              "array([ 74675.37776747,  91160.02832519,  61853.98288925,  81086.07520659,\n",
              "        67348.86640849,  88412.58656557, 113139.56240215,  44453.51841166,\n",
              "       105813.05104316,  98486.53968418])"
            ]
          },
          "metadata": {},
          "execution_count": 88
        }
      ]
    },
    {
      "cell_type": "code",
      "source": [
        "from sklearn.metrics import r2_score\n",
        "score = r2_score(y_test, y_pred)\n",
        "print(\"The accuracy of our model is {}%\".format(round(score, 2) *100))"
      ],
      "metadata": {
        "colab": {
          "base_uri": "https://localhost:8080/"
        },
        "id": "jEQrOmyC32DX",
        "outputId": "864dcc13-c008-4e15-8dd3-b7d922aa8635"
      },
      "execution_count": null,
      "outputs": [
        {
          "output_type": "stream",
          "name": "stdout",
          "text": [
            "The accuracy of our model is 92.0%\n"
          ]
        }
      ]
    },
    {
      "cell_type": "code",
      "source": [
        "regressor.predict([[1.2]])"
      ],
      "metadata": {
        "colab": {
          "base_uri": "https://localhost:8080/"
        },
        "id": "-BFPJUvT36TC",
        "outputId": "d7bca6be-c6c0-42ab-fb1a-ff11b437719e"
      },
      "execution_count": null,
      "outputs": [
        {
          "output_type": "execute_result",
          "data": {
            "text/plain": [
              "array([37127.00705267])"
            ]
          },
          "metadata": {},
          "execution_count": 90
        }
      ]
    },
    {
      "cell_type": "code",
      "source": [
        "import matplotlib.pyplot as plt\n",
        "plt.scatter(X_test, y_test, color = 'red')\n",
        "plt.plot(X_test, y_pred, color = 'blue')\n",
        "plt.title('Salary vs Experience (Test set)')\n",
        "plt.xlabel('Years of Experience')\n",
        "plt.ylabel('Salary')\n",
        "plt.show()"
      ],
      "metadata": {
        "colab": {
          "base_uri": "https://localhost:8080/",
          "height": 472
        },
        "id": "GigY8fm04CHW",
        "outputId": "0da74921-cde1-4748-d63f-0678e189127a"
      },
      "execution_count": null,
      "outputs": [
        {
          "output_type": "display_data",
          "data": {
            "text/plain": [
              "<Figure size 640x480 with 1 Axes>"
            ],
            "image/png": "[encoded data removed]"
          },
          "metadata": {}
        }
      ]
    },
    {
      "cell_type": "code",
      "source": [
        "print(regressor.coef_)\n",
        "print(regressor.intercept_)"
      ],
      "metadata": {
        "colab": {
          "base_uri": "https://localhost:8080/"
        },
        "id": "dLdP8bJb4Eby",
        "outputId": "d143a53f-df65-48fa-f8a6-9a11e61e1b51"
      },
      "execution_count": null,
      "outputs": [
        {
          "output_type": "stream",
          "name": "stdout",
          "text": [
            "[9158.13919873]\n",
            "26137.24001419694\n"
          ]
        }
      ]
    },
    {
      "cell_type": "markdown",
      "source": [
        "## Car_Details"
      ],
      "metadata": {
        "id": "mPP5vM0SDVi_"
      }
    },
    {
      "cell_type": "code",
      "source": [
        "import math\n",
        "import pandas as pd\n",
        "import numpy as np\n",
        "from sklearn.model_selection import train_test_split"
      ],
      "metadata": {
        "id": "d6NWs-3_7-7f"
      },
      "execution_count": null,
      "outputs": []
    },
    {
      "cell_type": "code",
      "source": [
        "df = pd.read_csv('Car_details.csv')\n",
        "df.info()"
      ],
      "metadata": {
        "colab": {
          "base_uri": "https://localhost:8080/"
        },
        "id": "oeBqrgd3DdmF",
        "outputId": "46be16ce-9fb7-4223-c03f-0ebf653bc52d"
      },
      "execution_count": null,
      "outputs": [
        {
          "output_type": "stream",
          "name": "stdout",
          "text": [
            "<class 'pandas.core.frame.DataFrame'>\n",
            "RangeIndex: 30 entries, 0 to 29\n",
            "Data columns (total 13 columns):\n",
            " #   Column         Non-Null Count  Dtype  \n",
            "---  ------         --------------  -----  \n",
            " 0   name           30 non-null     object \n",
            " 1   year           30 non-null     int64  \n",
            " 2   selling_price  30 non-null     int64  \n",
            " 3   km_driven      30 non-null     int64  \n",
            " 4   fuel           30 non-null     object \n",
            " 5   seller_type    30 non-null     object \n",
            " 6   transmission   30 non-null     object \n",
            " 7   owner          30 non-null     object \n",
            " 8   mileage        29 non-null     object \n",
            " 9   engine         29 non-null     object \n",
            " 10  max_power      29 non-null     object \n",
            " 11  torque         29 non-null     object \n",
            " 12  seats          29 non-null     float64\n",
            "dtypes: float64(1), int64(3), object(9)\n",
            "memory usage: 3.2+ KB\n"
          ]
        }
      ]
    },
    {
      "cell_type": "code",
      "source": [
        "df.head()"
      ],
      "metadata": {
        "colab": {
          "base_uri": "https://localhost:8080/",
          "height": 293
        },
        "id": "skv1vUk_EphJ",
        "outputId": "2eddc961-bdf7-459e-9f55-7e9087d64ffd"
      },
      "execution_count": null,
      "outputs": [
        {
          "output_type": "execute_result",
          "data": {
            "text/plain": [
              "                           name  year  selling_price  km_driven    fuel  \\\n",
              "0        Maruti Swift Dzire VDI  2014         450000     145500  Diesel   \n",
              "1  Skoda Rapid 1.5 TDI Ambition  2014         370000     120000  Diesel   \n",
              "2      Honda City 2017-2020 EXi  2006         158000     140000  Petrol   \n",
              "3     Hyundai i20 Sportz Diesel  2010         225000     127000  Diesel   \n",
              "4        Maruti Swift VXI BSIII  2007         130000     120000  Petrol   \n",
              "\n",
              "  seller_type transmission         owner     mileage   engine   max_power  \\\n",
              "0  Individual       Manual   First Owner   23.4 kmpl  1248 CC      74 bhp   \n",
              "1  Individual       Manual  Second Owner  21.14 kmpl  1498 CC  103.52 bhp   \n",
              "2  Individual       Manual   Third Owner   17.7 kmpl  1497 CC      78 bhp   \n",
              "3  Individual       Manual   First Owner   23.0 kmpl  1396 CC      90 bhp   \n",
              "4  Individual       Manual   First Owner   16.1 kmpl  1298 CC    88.2 bhp   \n",
              "\n",
              "                     torque  seats  \n",
              "0            190Nm@ 2000rpm    5.0  \n",
              "1       250Nm@ 1500-2500rpm    5.0  \n",
              "2     12.7@ 2,700(kgm@ rpm)    5.0  \n",
              "3  22.4 kgm at 1750-2750rpm    5.0  \n",
              "4     11.5@ 4,500(kgm@ rpm)    5.0  "
            ],
            "text/html": [
              "\n",
              "  <div id=\"df-5349176d-635e-4945-9d22-400b5f295eec\" class=\"colab-df-container\">\n",
              "    <div>\n",
              "<style scoped>\n",
              "    .dataframe tbody tr th:only-of-type {\n",
              "        vertical-align: middle;\n",
              "    }\n",
              "\n",
              "    .dataframe tbody tr th {\n",
              "        vertical-align: top;\n",
              "    }\n",
              "\n",
              "    .dataframe thead th {\n",
              "        text-align: right;\n",
              "    }\n",
              "</style>\n",
              "<table border=\"1\" class=\"dataframe\">\n",
              "  <thead>\n",
              "    <tr style=\"text-align: right;\">\n",
              "      <th></th>\n",
              "      <th>name</th>\n",
              "      <th>year</th>\n",
              "      <th>selling_price</th>\n",
              "      <th>km_driven</th>\n",
              "      <th>fuel</th>\n",
              "      <th>seller_type</th>\n",
              "      <th>transmission</th>\n",
              "      <th>owner</th>\n",
              "      <th>mileage</th>\n",
              "      <th>engine</th>\n",
              "      <th>max_power</th>\n",
              "      <th>torque</th>\n",
              "      <th>seats</th>\n",
              "    </tr>\n",
              "  </thead>\n",
              "  <tbody>\n",
              "    <tr>\n",
              "      <th>0</th>\n",
              "      <td>Maruti Swift Dzire VDI</td>\n",
              "      <td>2014</td>\n",
              "      <td>450000</td>\n",
              "      <td>145500</td>\n",
              "      <td>Diesel</td>\n",
              "      <td>Individual</td>\n",
              "      <td>Manual</td>\n",
              "      <td>First Owner</td>\n",
              "      <td>23.4 kmpl</td>\n",
              "      <td>1248 CC</td>\n",
              "      <td>74 bhp</td>\n",
              "      <td>190Nm@ 2000rpm</td>\n",
              "      <td>5.0</td>\n",
              "    </tr>\n",
              "    <tr>\n",
              "      <th>1</th>\n",
              "      <td>Skoda Rapid 1.5 TDI Ambition</td>\n",
              "      <td>2014</td>\n",
              "      <td>370000</td>\n",
              "      <td>120000</td>\n",
              "      <td>Diesel</td>\n",
              "      <td>Individual</td>\n",
              "      <td>Manual</td>\n",
              "      <td>Second Owner</td>\n",
              "      <td>21.14 kmpl</td>\n",
              "      <td>1498 CC</td>\n",
              "      <td>103.52 bhp</td>\n",
              "      <td>250Nm@ 1500-2500rpm</td>\n",
              "      <td>5.0</td>\n",
              "    </tr>\n",
              "    <tr>\n",
              "      <th>2</th>\n",
              "      <td>Honda City 2017-2020 EXi</td>\n",
              "      <td>2006</td>\n",
              "      <td>158000</td>\n",
              "      <td>140000</td>\n",
              "      <td>Petrol</td>\n",
              "      <td>Individual</td>\n",
              "      <td>Manual</td>\n",
              "      <td>Third Owner</td>\n",
              "      <td>17.7 kmpl</td>\n",
              "      <td>1497 CC</td>\n",
              "      <td>78 bhp</td>\n",
              "      <td>12.7@ 2,700(kgm@ rpm)</td>\n",
              "      <td>5.0</td>\n",
              "    </tr>\n",
              "    <tr>\n",
              "      <th>3</th>\n",
              "      <td>Hyundai i20 Sportz Diesel</td>\n",
              "      <td>2010</td>\n",
              "      <td>225000</td>\n",
              "      <td>127000</td>\n",
              "      <td>Diesel</td>\n",
              "      <td>Individual</td>\n",
              "      <td>Manual</td>\n",
              "      <td>First Owner</td>\n",
              "      <td>23.0 kmpl</td>\n",
              "      <td>1396 CC</td>\n",
              "      <td>90 bhp</td>\n",
              "      <td>22.4 kgm at 1750-2750rpm</td>\n",
              "      <td>5.0</td>\n",
              "    </tr>\n",
              "    <tr>\n",
              "      <th>4</th>\n",
              "      <td>Maruti Swift VXI BSIII</td>\n",
              "      <td>2007</td>\n",
              "      <td>130000</td>\n",
              "      <td>120000</td>\n",
              "      <td>Petrol</td>\n",
              "      <td>Individual</td>\n",
              "      <td>Manual</td>\n",
              "      <td>First Owner</td>\n",
              "      <td>16.1 kmpl</td>\n",
              "      <td>1298 CC</td>\n",
              "      <td>88.2 bhp</td>\n",
              "      <td>11.5@ 4,500(kgm@ rpm)</td>\n",
              "      <td>5.0</td>\n",
              "    </tr>\n",
              "  </tbody>\n",
              "</table>\n",
              "</div>\n",
              "    <div class=\"colab-df-buttons\">\n",
              "\n",
              "  <div class=\"colab-df-container\">\n",
              "    <button class=\"colab-df-convert\" onclick=\"convertToInteractive('df-5349176d-635e-4945-9d22-400b5f295eec')\"\n",
              "            title=\"Convert this dataframe to an interactive table.\"\n",
              "            style=\"display:none;\">\n",
              "\n",
              "  <svg xmlns=\"http://www.w3.org/2000/svg\" height=\"24px\" viewBox=\"0 -960 960 960\">\n",
              "    <path d=\"M120-120v-720h720v720H120Zm60-500h600v-160H180v160Zm220 220h160v-160H400v160Zm0 220h160v-160H400v160ZM180-400h160v-160H180v160Zm440 0h160v-160H620v160ZM180-180h160v-160H180v160Zm440 0h160v-160H620v160Z\"/>\n",
              "  </svg>\n",
              "    </button>\n",
              "\n",
              "  <style>\n",
              "    .colab-df-container {\n",
              "      display:flex;\n",
              "      gap: 12px;\n",
              "    }\n",
              "\n",
              "    .colab-df-convert {\n",
              "      background-color: #E8F0FE;\n",
              "      border: none;\n",
              "      border-radius: 50%;\n",
              "      cursor: pointer;\n",
              "      display: none;\n",
              "      fill: #1967D2;\n",
              "      height: 32px;\n",
              "      padding: 0 0 0 0;\n",
              "      width: 32px;\n",
              "    }\n",
              "\n",
              "    .colab-df-convert:hover {\n",
              "      background-color: #E2EBFA;\n",
              "      box-shadow: 0px 1px 2px rgba(60, 64, 67, 0.3), 0px 1px 3px 1px rgba(60, 64, 67, 0.15);\n",
              "      fill: #174EA6;\n",
              "    }\n",
              "\n",
              "    .colab-df-buttons div {\n",
              "      margin-bottom: 4px;\n",
              "    }\n",
              "\n",
              "    [theme=dark] .colab-df-convert {\n",
              "      background-color: #3B4455;\n",
              "      fill: #D2E3FC;\n",
              "    }\n",
              "\n",
              "    [theme=dark] .colab-df-convert:hover {\n",
              "      background-color: #434B5C;\n",
              "      box-shadow: 0px 1px 3px 1px rgba(0, 0, 0, 0.15);\n",
              "      filter: drop-shadow(0px 1px 2px rgba(0, 0, 0, 0.3));\n",
              "      fill: #FFFFFF;\n",
              "    }\n",
              "  </style>\n",
              "\n",
              "    <script>\n",
              "      const buttonEl =\n",
              "        document.querySelector('#df-5349176d-635e-4945-9d22-400b5f295eec button.colab-df-convert');\n",
              "      buttonEl.style.display =\n",
              "        google.colab.kernel.accessAllowed ? 'block' : 'none';\n",
              "\n",
              "      async function convertToInteractive(key) {\n",
              "        const element = document.querySelector('#df-5349176d-635e-4945-9d22-400b5f295eec');\n",
              "        const dataTable =\n",
              "          await google.colab.kernel.invokeFunction('convertToInteractive',\n",
              "                                                    [key], {});\n",
              "        if (!dataTable) return;\n",
              "\n",
              "        const docLinkHtml = 'Like what you see? Visit the ' +\n",
              "          '<a target=\"_blank\" href=https://colab.research.google.com/notebooks/data_table.ipynb>data table notebook</a>'\n",
              "          + ' to learn more about interactive tables.';\n",
              "        element.innerHTML = '';\n",
              "        dataTable['output_type'] = 'display_data';\n",
              "        await google.colab.output.renderOutput(dataTable, element);\n",
              "        const docLink = document.createElement('div');\n",
              "        docLink.innerHTML = docLinkHtml;\n",
              "        element.appendChild(docLink);\n",
              "      }\n",
              "    </script>\n",
              "  </div>\n",
              "\n",
              "\n",
              "<div id=\"df-7bdd6e55-8b8b-43bb-8bc0-caa0a23c7c57\">\n",
              "  <button class=\"colab-df-quickchart\" onclick=\"quickchart('df-7bdd6e55-8b8b-43bb-8bc0-caa0a23c7c57')\"\n",
              "            title=\"Suggest charts\"\n",
              "            style=\"display:none;\">\n",
              "\n",
              "<svg xmlns=\"http://www.w3.org/2000/svg\" height=\"24px\"viewBox=\"0 0 24 24\"\n",
              "     width=\"24px\">\n",
              "    <g>\n",
              "        <path d=\"M19 3H5c-1.1 0-2 .9-2 2v14c0 1.1.9 2 2 2h14c1.1 0 2-.9 2-2V5c0-1.1-.9-2-2-2zM9 17H7v-7h2v7zm4 0h-2V7h2v10zm4 0h-2v-4h2v4z\"/>\n",
              "    </g>\n",
              "</svg>\n",
              "  </button>\n",
              "\n",
              "<style>\n",
              "  .colab-df-quickchart {\n",
              "      --bg-color: #E8F0FE;\n",
              "      --fill-color: #1967D2;\n",
              "      --hover-bg-color: #E2EBFA;\n",
              "      --hover-fill-color: #174EA6;\n",
              "      --disabled-fill-color: #AAA;\n",
              "      --disabled-bg-color: #DDD;\n",
              "  }\n",
              "\n",
              "  [theme=dark] .colab-df-quickchart {\n",
              "      --bg-color: #3B4455;\n",
              "      --fill-color: #D2E3FC;\n",
              "      --hover-bg-color: #434B5C;\n",
              "      --hover-fill-color: #FFFFFF;\n",
              "      --disabled-bg-color: #3B4455;\n",
              "      --disabled-fill-color: #666;\n",
              "  }\n",
              "\n",
              "  .colab-df-quickchart {\n",
              "    background-color: var(--bg-color);\n",
              "    border: none;\n",
              "    border-radius: 50%;\n",
              "    cursor: pointer;\n",
              "    display: none;\n",
              "    fill: var(--fill-color);\n",
              "    height: 32px;\n",
              "    padding: 0;\n",
              "    width: 32px;\n",
              "  }\n",
              "\n",
              "  .colab-df-quickchart:hover {\n",
              "    background-color: var(--hover-bg-color);\n",
              "    box-shadow: 0 1px 2px rgba(60, 64, 67, 0.3), 0 1px 3px 1px rgba(60, 64, 67, 0.15);\n",
              "    fill: var(--button-hover-fill-color);\n",
              "  }\n",
              "\n",
              "  .colab-df-quickchart-complete:disabled,\n",
              "  .colab-df-quickchart-complete:disabled:hover {\n",
              "    background-color: var(--disabled-bg-color);\n",
              "    fill: var(--disabled-fill-color);\n",
              "    box-shadow: none;\n",
              "  }\n",
              "\n",
              "  .colab-df-spinner {\n",
              "    border: 2px solid var(--fill-color);\n",
              "    border-color: transparent;\n",
              "    border-bottom-color: var(--fill-color);\n",
              "    animation:\n",
              "      spin 1s steps(1) infinite;\n",
              "  }\n",
              "\n",
              "  @keyframes spin {\n",
              "    0% {\n",
              "      border-color: transparent;\n",
              "      border-bottom-color: var(--fill-color);\n",
              "      border-left-color: var(--fill-color);\n",
              "    }\n",
              "    20% {\n",
              "      border-color: transparent;\n",
              "      border-left-color: var(--fill-color);\n",
              "      border-top-color: var(--fill-color);\n",
              "    }\n",
              "    30% {\n",
              "      border-color: transparent;\n",
              "      border-left-color: var(--fill-color);\n",
              "      border-top-color: var(--fill-color);\n",
              "      border-right-color: var(--fill-color);\n",
              "    }\n",
              "    40% {\n",
              "      border-color: transparent;\n",
              "      border-right-color: var(--fill-color);\n",
              "      border-top-color: var(--fill-color);\n",
              "    }\n",
              "    60% {\n",
              "      border-color: transparent;\n",
              "      border-right-color: var(--fill-color);\n",
              "    }\n",
              "    80% {\n",
              "      border-color: transparent;\n",
              "      border-right-color: var(--fill-color);\n",
              "      border-bottom-color: var(--fill-color);\n",
              "    }\n",
              "    90% {\n",
              "      border-color: transparent;\n",
              "      border-bottom-color: var(--fill-color);\n",
              "    }\n",
              "  }\n",
              "</style>\n",
              "\n",
              "  <script>\n",
              "    async function quickchart(key) {\n",
              "      const quickchartButtonEl =\n",
              "        document.querySelector('#' + key + ' button');\n",
              "      quickchartButtonEl.disabled = true;  // To prevent multiple clicks.\n",
              "      quickchartButtonEl.classList.add('colab-df-spinner');\n",
              "      try {\n",
              "        const charts = await google.colab.kernel.invokeFunction(\n",
              "            'suggestCharts', [key], {});\n",
              "      } catch (error) {\n",
              "        console.error('Error during call to suggestCharts:', error);\n",
              "      }\n",
              "      quickchartButtonEl.classList.remove('colab-df-spinner');\n",
              "      quickchartButtonEl.classList.add('colab-df-quickchart-complete');\n",
              "    }\n",
              "    (() => {\n",
              "      let quickchartButtonEl =\n",
              "        document.querySelector('#df-7bdd6e55-8b8b-43bb-8bc0-caa0a23c7c57 button');\n",
              "      quickchartButtonEl.style.display =\n",
              "        google.colab.kernel.accessAllowed ? 'block' : 'none';\n",
              "    })();\n",
              "  </script>\n",
              "</div>\n",
              "\n",
              "    </div>\n",
              "  </div>\n"
            ],
            "application/vnd.google.colaboratory.intrinsic+json": {
              "type": "dataframe",
              "variable_name": "df",
              "summary": "{\n  \"name\": \"df\",\n  \"rows\": 30,\n  \"fields\": [\n    {\n      \"column\": \"name\",\n      \"properties\": {\n        \"dtype\": \"string\",\n        \"num_unique_values\": 29,\n        \"samples\": [\n          \"Chevrolet Enjoy TCDi LTZ 7 Seater\",\n          \"Maruti Ertiga SHVS VDI\",\n          \"Maruti Swift Dzire VDi\"\n        ],\n        \"semantic_type\": \"\",\n        \"description\": \"\"\n      }\n    },\n    {\n      \"column\": \"year\",\n      \"properties\": {\n        \"dtype\": \"number\",\n        \"std\": 4,\n        \"min\": 2001,\n        \"max\": 2018,\n        \"num_unique_values\": 15,\n        \"samples\": [\n          2009,\n          2012,\n          2014\n        ],\n        \"semantic_type\": \"\",\n        \"description\": \"\"\n      }\n    },\n    {\n      \"column\": \"selling_price\",\n      \"properties\": {\n        \"dtype\": \"number\",\n        \"std\": 219154,\n        \"min\": 45000,\n        \"max\": 950000,\n        \"num_unique_values\": 27,\n        \"samples\": [\n          350000,\n          180000,\n          200000\n        ],\n        \"semantic_type\": \"\",\n        \"description\": \"\"\n      }\n    },\n    {\n      \"column\": \"km_driven\",\n      \"properties\": {\n        \"dtype\": \"number\",\n        \"std\": 44425,\n        \"min\": 5000,\n        \"max\": 175000,\n        \"num_unique_values\": 20,\n        \"samples\": [\n          145500,\n          35000,\n          50000\n        ],\n        \"semantic_type\": \"\",\n        \"description\": \"\"\n      }\n    },\n    {\n      \"column\": \"fuel\",\n      \"properties\": {\n        \"dtype\": \"category\",\n        \"num_unique_values\": 3,\n        \"samples\": [\n          \"Diesel\",\n          \"Petrol\",\n          \"LPG\"\n        ],\n        \"semantic_type\": \"\",\n        \"description\": \"\"\n      }\n    },\n    {\n      \"column\": \"seller_type\",\n      \"properties\": {\n        \"dtype\": \"category\",\n        \"num_unique_values\": 1,\n        \"samples\": [\n          \"Individual\"\n        ],\n        \"semantic_type\": \"\",\n        \"description\": \"\"\n      }\n    },\n    {\n      \"column\": \"transmission\",\n      \"properties\": {\n        \"dtype\": \"category\",\n        \"num_unique_values\": 1,\n        \"samples\": [\n          \"Manual\"\n        ],\n        \"semantic_type\": \"\",\n        \"description\": \"\"\n      }\n    },\n    {\n      \"column\": \"owner\",\n      \"properties\": {\n        \"dtype\": \"category\",\n        \"num_unique_values\": 3,\n        \"samples\": [\n          \"First Owner\"\n        ],\n        \"semantic_type\": \"\",\n        \"description\": \"\"\n      }\n    },\n    {\n      \"column\": \"mileage\",\n      \"properties\": {\n        \"dtype\": \"string\",\n        \"num_unique_values\": 26,\n        \"samples\": [\n          \"20.0 kmpl\"\n        ],\n        \"semantic_type\": \"\",\n        \"description\": \"\"\n      }\n    },\n    {\n      \"column\": \"engine\",\n      \"properties\": {\n        \"dtype\": \"category\",\n        \"num_unique_values\": 14,\n        \"samples\": [\n          \"1399 CC\"\n        ],\n        \"semantic_type\": \"\",\n        \"description\": \"\"\n      }\n    },\n    {\n      \"column\": \"max_power\",\n      \"properties\": {\n        \"dtype\": \"string\",\n        \"num_unique_values\": 26,\n        \"samples\": [\n          \"67.1 bhp\"\n        ],\n        \"semantic_type\": \"\",\n        \"description\": \"\"\n      }\n    },\n    {\n      \"column\": \"torque\",\n      \"properties\": {\n        \"dtype\": \"string\",\n        \"num_unique_values\": 21,\n        \"samples\": [\n          \"190Nm@ 2000rpm\"\n        ],\n        \"semantic_type\": \"\",\n        \"description\": \"\"\n      }\n    },\n    {\n      \"column\": \"seats\",\n      \"properties\": {\n        \"dtype\": \"number\",\n        \"std\": 0.7736421443326913,\n        \"min\": 4.0,\n        \"max\": 8.0,\n        \"num_unique_values\": 4,\n        \"samples\": [\n          4.0\n        ],\n        \"semantic_type\": \"\",\n        \"description\": \"\"\n      }\n    }\n  ]\n}"
            }
          },
          "metadata": {},
          "execution_count": 234
        }
      ]
    },
    {
      "cell_type": "code",
      "source": [
        "x = df['year']\n",
        "y = df['selling_price']\n",
        "print(x)\n",
        "print(y)"
      ],
      "metadata": {
        "colab": {
          "base_uri": "https://localhost:8080/"
        },
        "id": "A8HzMUvwEk6_",
        "outputId": "536e163c-19c5-464b-af92-394d0f4329da"
      },
      "execution_count": null,
      "outputs": [
        {
          "output_type": "stream",
          "name": "stdout",
          "text": [
            "0     2014\n",
            "1     2014\n",
            "2     2006\n",
            "3     2010\n",
            "4     2007\n",
            "5     2017\n",
            "6     2007\n",
            "7     2001\n",
            "8     2011\n",
            "9     2013\n",
            "10    2014\n",
            "11    2005\n",
            "12    2009\n",
            "13    2007\n",
            "14    2009\n",
            "15    2016\n",
            "16    2016\n",
            "17    2012\n",
            "18    2002\n",
            "19    2016\n",
            "20    2011\n",
            "21    2017\n",
            "22    2015\n",
            "23    2012\n",
            "24    2018\n",
            "25    2016\n",
            "26    2017\n",
            "27    2013\n",
            "28    2009\n",
            "29    2018\n",
            "Name: year, dtype: int64\n",
            "0     450000\n",
            "1     370000\n",
            "2     158000\n",
            "3     225000\n",
            "4     130000\n",
            "5     440000\n",
            "6      96000\n",
            "7      45000\n",
            "8     350000\n",
            "9     200000\n",
            "10    500000\n",
            "11     92000\n",
            "12    280000\n",
            "13    200000\n",
            "14    180000\n",
            "15    400000\n",
            "16    778000\n",
            "17    500000\n",
            "18    150000\n",
            "19    680000\n",
            "20    174000\n",
            "21    950000\n",
            "22    525000\n",
            "23    600000\n",
            "24    500000\n",
            "25    575000\n",
            "26    275000\n",
            "27    300000\n",
            "28    220000\n",
            "29    254999\n",
            "Name: selling_price, dtype: int64\n"
          ]
        }
      ]
    },
    {
      "cell_type": "code",
      "source": [
        "import matplotlib.pyplot as plt\n",
        "plt.scatter(x,y)\n",
        "plt.xlabel('year')\n",
        "plt.ylabel('selling_price')"
      ],
      "metadata": {
        "colab": {
          "base_uri": "https://localhost:8080/",
          "height": 467
        },
        "id": "6-ZvY3XED0mr",
        "outputId": "50d81942-e725-422d-ca0b-e2d5c6e29568"
      },
      "execution_count": null,
      "outputs": [
        {
          "output_type": "execute_result",
          "data": {
            "text/plain": [
              "Text(0, 0.5, 'selling_price')"
            ]
          },
          "metadata": {},
          "execution_count": 237
        },
        {
          "output_type": "display_data",
          "data": {
            "text/plain": [
              "<Figure size 640x480 with 1 Axes>"
            ],
            "image/png": "[encoded data removed]"
          },
          "metadata": {}
        }
      ]
    },
    {
      "cell_type": "code",
      "source": [
        "from sklearn.model_selection import train_test_split\n",
        "x_train, x_test, y_train, y_test = train_test_split(x,y,test_size = 1/3,random_state = 1)"
      ],
      "metadata": {
        "id": "w9vwvr3WEDLB"
      },
      "execution_count": null,
      "outputs": []
    },
    {
      "cell_type": "code",
      "source": [
        "x_train = np.array(x_train).reshape(-1,1)\n",
        "x_train"
      ],
      "metadata": {
        "colab": {
          "base_uri": "https://localhost:8080/"
        },
        "id": "Vz8j6A7FEFKa",
        "outputId": "4ccc861d-c0ef-4476-cf85-5b6c3d452564"
      },
      "execution_count": null,
      "outputs": [
        {
          "output_type": "execute_result",
          "data": {
            "text/plain": [
              "array([[2012],\n",
              "       [2007],\n",
              "       [2006],\n",
              "       [2016],\n",
              "       [2007],\n",
              "       [2002],\n",
              "       [2007],\n",
              "       [2001],\n",
              "       [2013],\n",
              "       [2014],\n",
              "       [2016],\n",
              "       [2014],\n",
              "       [2016],\n",
              "       [2018],\n",
              "       [2009],\n",
              "       [2013],\n",
              "       [2011],\n",
              "       [2009],\n",
              "       [2005],\n",
              "       [2017]])"
            ]
          },
          "metadata": {},
          "execution_count": 239
        }
      ]
    },
    {
      "cell_type": "code",
      "source": [
        "x_test = np.array(x_test).reshape(-1,1)\n",
        "x_test"
      ],
      "metadata": {
        "colab": {
          "base_uri": "https://localhost:8080/"
        },
        "id": "__f3urqMEI3y",
        "outputId": "15522788-d8f2-4d1e-8192-54c4c7deaded"
      },
      "execution_count": null,
      "outputs": [
        {
          "output_type": "execute_result",
          "data": {
            "text/plain": [
              "array([[2012],\n",
              "       [2017],\n",
              "       [2014],\n",
              "       [2016],\n",
              "       [2009],\n",
              "       [2011],\n",
              "       [2017],\n",
              "       [2010],\n",
              "       [2018],\n",
              "       [2015]])"
            ]
          },
          "metadata": {},
          "execution_count": 240
        }
      ]
    },
    {
      "cell_type": "code",
      "source": [
        "from sklearn.linear_model import LinearRegression"
      ],
      "metadata": {
        "id": "LfHKAm0jEKs9"
      },
      "execution_count": null,
      "outputs": []
    },
    {
      "cell_type": "code",
      "source": [
        "lr = LinearRegression()\n",
        "lr.fit(x_train,y_train)\n",
        "c=lr.intercept_\n",
        "m=lr.coef_\n",
        "m"
      ],
      "metadata": {
        "colab": {
          "base_uri": "https://localhost:8080/"
        },
        "id": "70ESSn26EMd3",
        "outputId": "dd765048-469a-4bcd-83e6-4480e990c863"
      },
      "execution_count": null,
      "outputs": [
        {
          "output_type": "execute_result",
          "data": {
            "text/plain": [
              "array([28049.20246607])"
            ]
          },
          "metadata": {},
          "execution_count": 242
        }
      ]
    },
    {
      "cell_type": "code",
      "source": [
        "c"
      ],
      "metadata": {
        "colab": {
          "base_uri": "https://localhost:8080/"
        },
        "id": "R7NkIU_1EO7A",
        "outputId": "5cb631f6-a6f5-491f-f80b-8f511b7dfe92"
      },
      "execution_count": null,
      "outputs": [
        {
          "output_type": "execute_result",
          "data": {
            "text/plain": [
              "-56092678.98839498"
            ]
          },
          "metadata": {},
          "execution_count": 243
        }
      ]
    },
    {
      "cell_type": "code",
      "source": [
        "y_pred_train = lr.predict(x_train)\n",
        "y_pred_train"
      ],
      "metadata": {
        "colab": {
          "base_uri": "https://localhost:8080/"
        },
        "id": "8njyqmAXERU2",
        "outputId": "4e015e00-dafe-4b44-c23e-44fbaf347400"
      },
      "execution_count": null,
      "outputs": [
        {
          "output_type": "execute_result",
          "data": {
            "text/plain": [
              "array([342316.37332919, 202070.36099886, 174021.1585328 , 454513.18319345,\n",
              "       202070.36099886,  61824.34866854, 202070.36099886,  33775.14620247,\n",
              "       370365.57579526, 398414.77826133, 454513.18319345, 398414.77826133,\n",
              "       454513.18319345, 510611.58812559, 258168.765931  , 370365.57579526,\n",
              "       314267.17086313, 258168.765931  , 145971.95606674, 482562.38565952])"
            ]
          },
          "metadata": {},
          "execution_count": 244
        }
      ]
    },
    {
      "cell_type": "code",
      "source": [
        "import matplotlib as lib\n",
        "plt.scatter(x_train,y_train)\n",
        "plt.plot(x_train,y_pred_train, color='red')\n",
        "plt.xlabel('Year')\n",
        "plt.ylabel('Selling Price')"
      ],
      "metadata": {
        "colab": {
          "base_uri": "https://localhost:8080/",
          "height": 467
        },
        "id": "qy9eUbSjETYO",
        "outputId": "1a6acb05-acbe-4220-b16c-0c2da6268935"
      },
      "execution_count": null,
      "outputs": [
        {
          "output_type": "execute_result",
          "data": {
            "text/plain": [
              "Text(0, 0.5, 'Selling Price')"
            ]
          },
          "metadata": {},
          "execution_count": 245
        },
        {
          "output_type": "display_data",
          "data": {
            "text/plain": [
              "<Figure size 640x480 with 1 Axes>"
            ],
            "image/png": "[encoded data removed]"
          },
          "metadata": {}
        }
      ]
    },
    {
      "cell_type": "code",
      "source": [
        "y_pred_test = lr.predict(x_test)\n",
        "y_pred_test"
      ],
      "metadata": {
        "colab": {
          "base_uri": "https://localhost:8080/"
        },
        "id": "k2Paej-9EVUz",
        "outputId": "62e03bdd-c7c0-42c0-a6d1-0be552eafa93"
      },
      "execution_count": null,
      "outputs": [
        {
          "output_type": "execute_result",
          "data": {
            "text/plain": [
              "array([342316.37332919, 482562.38565952, 398414.77826133, 454513.18319345,\n",
              "       258168.765931  , 314267.17086313, 482562.38565952, 286217.96839706,\n",
              "       510611.58812559, 426463.98072739])"
            ]
          },
          "metadata": {},
          "execution_count": 246
        }
      ]
    }
  ]
}